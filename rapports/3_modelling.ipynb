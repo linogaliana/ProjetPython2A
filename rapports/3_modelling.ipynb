{
 "cells": [
  {
   "cell_type": "markdown",
   "metadata": {},
   "source": [
    "# Modelling "
   ]
  },
  {
   "cell_type": "markdown",
   "metadata": {},
   "source": [
    "The final step of our projet has come: trying to find a model which would be able to recognize an artist thanks to the lyrics of a song."
   ]
  },
  {
   "cell_type": "markdown",
   "metadata": {},
   "source": [
    "We have looked into 4 different models, first by comparing two artists together and then by comparing all 6 of our chosen artits together. "
   ]
  },
  {
   "cell_type": "markdown",
   "metadata": {},
   "source": [
    "The two artists we have decided to look into are Drake and Kanye West. Indeed in the data exploration phase we have seen that between our 6 artists chose, these two seem to be the closest in terms of choice of words. By comparing the two of them together we chose the hardest combination of artists for our models. That will allow us to see how performant they are."
   ]
  },
  {
   "cell_type": "markdown",
   "metadata": {},
   "source": [
    "## Sommaire"
   ]
  },
  {
   "cell_type": "markdown",
   "metadata": {},
   "source": [
    "* [Imports](#chapter1)\n",
    "* [1.1 Decision Tree for 2 artists](#chapter2)\n",
    "* [1.2 Decision Tree for 6 artists](#chapter3)\n",
    "* [2.1 Naive Bayes for 2 artists](#chapter4)\n",
    "* [2.2 Naive Bayes for 6 artists](#chapter5)\n",
    "* [3.1 SVC for 2 artists](#chapter6)\n",
    "* [3.2 SVC for 6 artists](#chapter7)\n",
    "* [4.1 Random Forest for 2 artists](#chapter8)\n",
    "* [4.2 Random Forest for 6 artists](#chapter9)\n",
    "* [Conclusion](#chapter10)\n",
    "* [Going further : attempt of neural network](#chapter11)"
   ]
  },
  {
   "cell_type": "markdown",
   "metadata": {},
   "source": [
    "### Imports <a class=\"anchor\" id=\"chapter1\"></a>"
   ]
  },
  {
   "cell_type": "code",
   "execution_count": 24,
   "metadata": {},
   "outputs": [],
   "source": [
    "import os\n",
    "import pandas as pd\n",
    "import numpy as np\n",
    "from pathlib import Path\n",
    "from tqdm import tqdm\n",
    "from sklearn.model_selection import train_test_split\n",
    "import matplotlib.pylab as plt\n",
    "import collections\n",
    "\n",
    "from nltk.tokenize import word_tokenize\n",
    "\n",
    "from sklearn.feature_extraction.text import CountVectorizer\n",
    "from sklearn.feature_extraction.text import TfidfTransformer\n",
    "from sklearn.feature_extraction.text import TfidfVectorizer\n",
    "\n",
    "from sklearn.pipeline import Pipeline\n",
    "from sklearn.pipeline import make_pipeline\n",
    "from sklearn.tree import DecisionTreeClassifier\n",
    "from sklearn.naive_bayes import MultinomialNB\n",
    "from sklearn.ensemble import RandomForestClassifier\n",
    "from sklearn.svm import SVC\n",
    "from sklearn.model_selection import train_test_split\n",
    "\n",
    "from sklearn.metrics import ConfusionMatrixDisplay\n",
    "from sklearn.metrics import roc_curve \n",
    "from sklearn.metrics import roc_auc_score \n",
    "\n",
    "if not \"root\" in locals():\n",
    "    current_path = Path(os.getcwd())\n",
    "    root = current_path.parent.absolute()\n",
    "os.chdir(root)\n"
   ]
  },
  {
   "cell_type": "markdown",
   "metadata": {},
   "source": [
    "### Decision Tree for 2 artists <a class=\"anchor\" id=\"chapter2\"></a>"
   ]
  },
  {
   "cell_type": "markdown",
   "metadata": {},
   "source": [
    "#### Pre-processing the data : the tf-idf matrix"
   ]
  },
  {
   "cell_type": "markdown",
   "metadata": {},
   "source": [
    "Selection of the artist for which we will create the tf-idf matrix ad test the decision tree model"
   ]
  },
  {
   "cell_type": "code",
   "execution_count": 11,
   "metadata": {},
   "outputs": [],
   "source": [
    "artist1 = 'Drake'\n",
    "artist2 = 'Kanye West'\n",
    "\n",
    "df_artist1 = pd.read_csv(f'2A - Projet Python/artist_data/discography_Drake')\n",
    "df_artist2 = pd.read_csv(f'2A - Projet Python/artist_data/discography_Kanye West')\n",
    "\n",
    "df_artist1 = df_artist1[df_artist1['Clean Lyrics'].notna()]\n",
    "df_artist2 = df_artist2[df_artist2['Clean Lyrics'].notna()]"
   ]
  },
  {
   "cell_type": "markdown",
   "metadata": {},
   "source": [
    "Creation of the tf-idf matrix"
   ]
  },
  {
   "cell_type": "code",
   "execution_count": 68,
   "metadata": {},
   "outputs": [],
   "source": [
    "# Apply TF-IDF to the data\n",
    "vectorizer = TfidfVectorizer()\n",
    "vectors = vectorizer.fit_transform(list(df_artist1['Clean Lyrics'])+list(df_artist2['Clean Lyrics']))\n",
    "feature_names = vectorizer.get_feature_names()\n",
    "dense = vectors.todense()\n",
    "denselist = dense.tolist()\n",
    "\n",
    "# Create and store the TF-IDF matrix\n",
    "tfidf = pd.DataFrame(denselist, columns=feature_names,\n",
    "                                 index=list(df_artist1['song_id'])+list(df_artist2['song_id'])).reset_index()"
   ]
  },
  {
   "cell_type": "markdown",
   "metadata": {},
   "source": [
    "Adding a target value in order to enable the training"
   ]
  },
  {
   "cell_type": "code",
   "execution_count": 69,
   "metadata": {},
   "outputs": [],
   "source": [
    "def artist1_indicator(index):\n",
    "    for id_ in df_artist1['song_id']:\n",
    "        if int(index) == int(id_):\n",
    "            return 1\n",
    "    return 0\n",
    "\n",
    "tfidf = pd.concat([tfidf,pd.DataFrame([artist1_indicator(index) for index in list(tfidf['level_0'])])],axis =1).drop(['level_0'],axis = 1)\n",
    "tfidf.to_csv(f'2A - Projet Python/tfidf_data/tfidf_{artist1}_{artist2}')"
   ]
  },
  {
   "cell_type": "markdown",
   "metadata": {},
   "source": [
    "We have now created a tf-idf matrix fitted for experimenting"
   ]
  },
  {
   "cell_type": "markdown",
   "metadata": {},
   "source": [
    "Let us try a decision tree in order to see if we can learn to differentiate songs from Drake from songs from Kayne West. "
   ]
  },
  {
   "cell_type": "markdown",
   "metadata": {},
   "source": [
    "#### The decision tree model"
   ]
  },
  {
   "cell_type": "markdown",
   "metadata": {},
   "source": [
    "We splitted our dataset between the training and test set following 80%/20% proportions."
   ]
  },
  {
   "cell_type": "code",
   "execution_count": 70,
   "metadata": {},
   "outputs": [
    {
     "name": "stdout",
     "output_type": "stream",
     "text": [
      "Progressing... | 0/500\n",
      "Progressing... | 50/500\n",
      "Progressing... | 100/500\n",
      "Progressing... | 150/500\n",
      "Progressing... | 200/500\n",
      "Progressing... | 250/500\n",
      "Progressing... | 300/500\n",
      "Progressing... | 350/500\n",
      "Progressing... | 400/500\n",
      "Progressing... | 450/500\n"
     ]
    },
    {
     "data": {
      "image/png": "[encoded data removed]",
      "text/plain": [
       "<Figure size 432x288 with 2 Axes>"
      ]
     },
     "metadata": {
      "needs_background": "light"
     },
     "output_type": "display_data"
    },
    {
     "name": "stdout",
     "output_type": "stream",
     "text": [
      "Average Accuracy :  0.7795932203389829\n"
     ]
    }
   ],
   "source": [
    "#initialisation:\n",
    "n_rep = 500\n",
    "\n",
    "list_accuracy = []\n",
    "for j in range(n_rep):\n",
    "    \n",
    "    if j%(nbr_rep/10) == 0 :\n",
    "        print('Processing... |',f'{j}/{nbr_rep}')\n",
    "        \n",
    "    tfidf = tfidf.sample(frac=1)\n",
    "    \n",
    "    rows, columns = tfidf.shape\n",
    "    b = columns - 1\n",
    "    X_train = tfidf.iloc[:, :-1][:int(rows // (10 / 8))] \n",
    "    X_test = tfidf.iloc[:, :-1][int(rows // (10 / 8)):] \n",
    "    y_train = tfidf.iloc[:, b:][:int(rows // (10 / 8))] \n",
    "    y_test = tfidf.iloc[:, b:][int(rows // (10 / 8)):]\n",
    "    \n",
    "    # Create Decision Tree classifer object\n",
    "    clf = DecisionTreeClassifier()\n",
    "    \n",
    "    # Train Decision Tree Classifer\n",
    "    clf = clf.fit(X_train, y_train)\n",
    "    \n",
    "    # Predict the response for test dataset\n",
    "    y_pred = clf.predict(X_test)\n",
    "    \n",
    "    compteur = 0\n",
    "    y_test_ = [y for y in y_test[0]]\n",
    "    for i in range(len(y_pred)):\n",
    "        if y_pred[i] == y_test_[i]:\n",
    "            compteur += 1\n",
    "    list_accuracy.append(compteur / len(y_pred))\n",
    "\n",
    "plt.subplot(1,2,1)\n",
    "plt.boxplot(list_accuracy)\n",
    "plt.subplot(1,2,2)\n",
    "plt.scatter(pd.DataFrame.from_dict(dict(collections.Counter(list_accuracy)),orient='index').reset_index()['index'],\n",
    "        pd.DataFrame.from_dict(dict(collections.Counter(list_accuracy)),orient='index').reset_index()[0])\n",
    "plt.show()\n",
    "\n",
    "print('Average Accuracy : ',np.mean(list_accuracy))"
   ]
  },
  {
   "cell_type": "markdown",
   "metadata": {},
   "source": [
    "### Decision Tree for N Artists  <a class=\"anchor\" id=\"chapter3\"></a>"
   ]
  },
  {
   "cell_type": "markdown",
   "metadata": {},
   "source": [
    "#### Pre-processing the data"
   ]
  },
  {
   "cell_type": "markdown",
   "metadata": {},
   "source": [
    "Collecting data for our 6 artists"
   ]
  },
  {
   "cell_type": "code",
   "execution_count": 72,
   "metadata": {},
   "outputs": [],
   "source": [
    "list_artists = ['Bruno Mars','Adele','Eminem','Kanye West','Drake','Lana Del Rey']\n",
    "\n",
    "df_artists = pd.DataFrame()\n",
    "\n",
    "for artist in list_artists:\n",
    "    df = pd.read_csv(f'2A - Projet Python/artist_data/discography_{artist}')\n",
    "    df_artists = pd.concat([df_artists,df[df['Clean Lyrics'].notna()]], axis = 0)"
   ]
  },
  {
   "cell_type": "markdown",
   "metadata": {},
   "source": [
    "We once again create a tf-idf matrix, but this time for our 6 artists"
   ]
  },
  {
   "cell_type": "code",
   "execution_count": 73,
   "metadata": {},
   "outputs": [],
   "source": [
    "# Apply TF-IDF to the data\n",
    "vectorizer = TfidfVectorizer()\n",
    "vectors = vectorizer.fit_transform(list(df_artists['Clean Lyrics']))\n",
    "feature_names = vectorizer.get_feature_names()\n",
    "dense = vectors.todense()\n",
    "denselist = dense.tolist()\n",
    "\n",
    "# Create and store the TF-IDF matrix\n",
    "tfidf = pd.DataFrame(denselist, columns=feature_names, index=list(df_artists['song_id'])).reset_index()"
   ]
  },
  {
   "cell_type": "markdown",
   "metadata": {},
   "source": [
    "We add our target value for the model"
   ]
  },
  {
   "cell_type": "code",
   "execution_count": 74,
   "metadata": {},
   "outputs": [],
   "source": [
    "def artist_indicator(index):\n",
    "    return df_artists[df_artists['song_id'] == index]['Artist'].values[0]\n",
    "\n",
    "tfidf = pd.concat([tfidf,pd.DataFrame([artist_indicator(index) for index in list(tfidf['level_0'])])],axis =1).drop(['level_0'],axis = 1)\n",
    "\n",
    "tfidf.to_csv(f'2A - Projet Python/tfidf_data/global_tfidf')"
   ]
  },
  {
   "cell_type": "markdown",
   "metadata": {},
   "source": [
    "#### The Decision Tree model"
   ]
  },
  {
   "cell_type": "code",
   "execution_count": 77,
   "metadata": {},
   "outputs": [
    {
     "name": "stdout",
     "output_type": "stream",
     "text": [
      "Progress ... |  0/500\n",
      "Progress ... |  50/500\n",
      "Progress ... |  100/500\n",
      "Progress ... |  150/500\n",
      "Progress ... |  200/500\n",
      "Progress ... |  250/500\n",
      "Progress ... |  300/500\n",
      "Progress ... |  350/500\n",
      "Progress ... |  400/500\n",
      "Progress ... |  450/500\n"
     ]
    },
    {
     "data": {
      "image/png": "[encoded data removed]",
      "text/plain": [
       "<Figure size 432x288 with 2 Axes>"
      ]
     },
     "metadata": {
      "needs_background": "light"
     },
     "output_type": "display_data"
    },
    {
     "name": "stdout",
     "output_type": "stream",
     "text": [
      "Average Accuracy :  0.7329898989898991\n"
     ]
    }
   ],
   "source": [
    "#Initialisation : \n",
    "n_rep = 500\n",
    "\n",
    "list_accuracy = []\n",
    "for j in range(n_rep):\n",
    "    tfidf = tfidf.sample(frac=1)\n",
    "\n",
    "    if j%(n_rep/10) ==0 :\n",
    "        print('Progress ... | ',f'{j}/{n_rep}')\n",
    "\n",
    "    rows, columns = tfidf.shape\n",
    "    b = columns - 1\n",
    "    X_train = tfidf.iloc[:, :-1][:int(rows // (10 / 8))]\n",
    "    X_test = tfidf.iloc[:, :-1][int(rows // (10 / 8)):]\n",
    "    y_train = tfidf.iloc[:, b:][:int(rows // (10 / 8))]\n",
    "    y_test = tfidf.iloc[:, b:][int(rows // (10 / 8)):]\n",
    "\n",
    "    # Create Decision Tree classifer object\n",
    "    clf = DecisionTreeClassifier()\n",
    "\n",
    "    # Train Decision Tree Classifer\n",
    "    clf = clf.fit(X_train, y_train)\n",
    "\n",
    "    # Predict the response for test dataset\n",
    "    y_pred = clf.predict(X_test)\n",
    "\n",
    "    compteur = 0\n",
    "    y_test_ = [y for y in y_test[0]]\n",
    "    for i in range(len(y_pred)):\n",
    "        if y_pred[i] == y_test_[i]:\n",
    "            compteur += 1\n",
    "    list_accuracy.append(compteur / len(y_pred))\n",
    "\n",
    "plt.subplot(1,2,1)\n",
    "plt.boxplot(list_accuracy)\n",
    "plt.subplot(1,2,2)\n",
    "plt.scatter(pd.DataFrame.from_dict(dict(collections.Counter(list_accuracy)),orient='index').reset_index()['index'],\n",
    "        pd.DataFrame.from_dict(dict(collections.Counter(list_accuracy)),orient='index').reset_index()[0])\n",
    "plt.show()\n",
    "\n",
    "print('Average Accuracy : ',np.mean(list_accuracy))"
   ]
  },
  {
   "cell_type": "markdown",
   "metadata": {},
   "source": [
    "It seems that the average accuracy is slightly lower for 6 artists, which is to be expected."
   ]
  },
  {
   "cell_type": "markdown",
   "metadata": {},
   "source": [
    "## Naive Bayes for 2 artists <a class=\"anchor\" id=\"chapter4\"></a>"
   ]
  },
  {
   "cell_type": "markdown",
   "metadata": {},
   "source": [
    "Let us try with another algorithm. "
   ]
  },
  {
   "cell_type": "code",
   "execution_count": 2,
   "metadata": {},
   "outputs": [],
   "source": [
    "artist_names = [\"Drake\", \"Kanye West\"] # enter artists' names present in the directory artist_data\n",
    "nb_artists = len(artist_names)"
   ]
  },
  {
   "cell_type": "code",
   "execution_count": 3,
   "metadata": {},
   "outputs": [],
   "source": [
    "def creating_X_Y(names):\n",
    "    X = []\n",
    "    Y = []\n",
    "\n",
    "    for artist in artist_names:\n",
    "        data = pd.read_csv(f'./artist_data/discography_{artist}')\n",
    "        data[\"Clean Lyrics\"] = data[\"Clean Lyrics\"].values.astype('U')\n",
    "        X += data[\"Clean Lyrics\"].values.tolist()\n",
    "        for i in range(len(data)):\n",
    "            Y.append(artist)\n",
    "    return (X, Y)"
   ]
  },
  {
   "cell_type": "code",
   "execution_count": 4,
   "metadata": {},
   "outputs": [
    {
     "name": "stdout",
     "output_type": "stream",
     "text": [
      "score:  0.75\n"
     ]
    }
   ],
   "source": [
    "X, Y =   creating_X_Y(artist_names)\n",
    "\n",
    "X_train, X_test, y_train, y_test = train_test_split(X,Y,test_size = 0.10,random_state=42)\n",
    "\n",
    "pipeline = make_pipeline(CountVectorizer(), TfidfTransformer(), MultinomialNB())\n",
    "\n",
    "pipeline.fit(X_train,y_train)\n",
    "\n",
    "print( \"score: \", pipeline.score(X_test,y_test).round(3))"
   ]
  },
  {
   "cell_type": "markdown",
   "metadata": {},
   "source": [
    "### Our confusion matrix"
   ]
  },
  {
   "cell_type": "code",
   "execution_count": 5,
   "metadata": {},
   "outputs": [
    {
     "data": {
      "text/plain": [
       "<sklearn.metrics._plot.confusion_matrix.ConfusionMatrixDisplay at 0x1e442226160>"
      ]
     },
     "execution_count": 5,
     "metadata": {},
     "output_type": "execute_result"
    },
    {
     "data": {
      "image/png": "[encoded data removed]",
      "text/plain": [
       "<Figure size 432x288 with 2 Axes>"
      ]
     },
     "metadata": {},
     "output_type": "display_data"
    }
   ],
   "source": [
    "ConfusionMatrixDisplay.from_estimator(pipeline, X_test, y_test, xticks_rotation='vertical')"
   ]
  },
  {
   "cell_type": "markdown",
   "metadata": {},
   "source": [
    "## Naive Bayes for 6 artists <a class=\"anchor\" id=\"chapter5\"></a>"
   ]
  },
  {
   "cell_type": "markdown",
   "metadata": {},
   "source": [
    "Let us now try to differentiate songs between 6 artists. "
   ]
  },
  {
   "cell_type": "code",
   "execution_count": 7,
   "metadata": {},
   "outputs": [],
   "source": [
    "artist_names = [\"Adele\", \"Bruno Mars\", \"Drake\", \"Eminem\", \"Kanye West\", \"Lana Del Rey\"] \n",
    "nb_artists = len(artist_names)"
   ]
  },
  {
   "cell_type": "code",
   "execution_count": 10,
   "metadata": {},
   "outputs": [
    {
     "name": "stdout",
     "output_type": "stream",
     "text": [
      "score:  0.275\n"
     ]
    }
   ],
   "source": [
    "X, Y =   creating_X_Y(artist_names)\n",
    "\n",
    "X_train, X_test, y_train, y_test = train_test_split(X,Y,test_size = 0.10,random_state=42)\n",
    "\n",
    "pipeline = make_pipeline(CountVectorizer(), TfidfTransformer(), MultinomialNB())\n",
    "\n",
    "pipeline.fit(X_train,y_train)\n",
    "\n",
    "print( \"score: \", pipeline.score(X_test,y_test).round(3))"
   ]
  },
  {
   "cell_type": "markdown",
   "metadata": {},
   "source": [
    "It seems that our score for 6 artists is much much lower. We should probably try out another model that works better for multiclass classification."
   ]
  },
  {
   "cell_type": "code",
   "execution_count": 9,
   "metadata": {},
   "outputs": [
    {
     "data": {
      "text/plain": [
       "<sklearn.metrics._plot.confusion_matrix.ConfusionMatrixDisplay at 0x1e44580f550>"
      ]
     },
     "execution_count": 9,
     "metadata": {},
     "output_type": "execute_result"
    },
    {
     "data": {
      "image/png": "[encoded data removed]",
      "text/plain": [
       "<Figure size 432x288 with 2 Axes>"
      ]
     },
     "metadata": {},
     "output_type": "display_data"
    }
   ],
   "source": [
    "ConfusionMatrixDisplay.from_estimator(pipeline, X_test, y_test, xticks_rotation='vertical')"
   ]
  },
  {
   "cell_type": "markdown",
   "metadata": {},
   "source": [
    "## SVC for 2 artists <a class=\"anchor\" id=\"chapter6\"></a>"
   ]
  },
  {
   "cell_type": "code",
   "execution_count": 11,
   "metadata": {},
   "outputs": [],
   "source": [
    "artist_names = [\"Drake\", \"Kanye West\"] # enter artists' names present in the directory artist_data\n",
    "nb_artists = len(artist_names)"
   ]
  },
  {
   "cell_type": "code",
   "execution_count": 15,
   "metadata": {},
   "outputs": [
    {
     "name": "stdout",
     "output_type": "stream",
     "text": [
      "score:  0.867\n"
     ]
    }
   ],
   "source": [
    "X, Y =   creating_X_Y(artist_names)\n",
    "\n",
    "X_train, X_test, y_train, y_test = train_test_split(X,Y,test_size = 0.10,random_state=42)\n",
    "\n",
    "clf = make_pipeline(CountVectorizer(), TfidfTransformer(), SVC())\n",
    "\n",
    "clf.fit(X_train,y_train)\n",
    "\n",
    "print( \"score: \", clf.score(X_test,y_test).round(3))"
   ]
  },
  {
   "cell_type": "code",
   "execution_count": 17,
   "metadata": {},
   "outputs": [
    {
     "data": {
      "text/plain": [
       "<sklearn.metrics._plot.confusion_matrix.ConfusionMatrixDisplay at 0x1e4457ddcd0>"
      ]
     },
     "execution_count": 17,
     "metadata": {},
     "output_type": "execute_result"
    },
    {
     "data": {
      "image/png": "[encoded data removed]",
      "text/plain": [
       "<Figure size 432x288 with 2 Axes>"
      ]
     },
     "metadata": {},
     "output_type": "display_data"
    }
   ],
   "source": [
    "ConfusionMatrixDisplay.from_estimator(clf, X_test, y_test, xticks_rotation='vertical')"
   ]
  },
  {
   "cell_type": "markdown",
   "metadata": {},
   "source": [
    "## SVC for 6 artists <a class=\"anchor\" id=\"chapter7\"></a>"
   ]
  },
  {
   "cell_type": "code",
   "execution_count": 23,
   "metadata": {},
   "outputs": [],
   "source": [
    "artist_names = [\"Adele\", \"Bruno Mars\", \"Drake\", \"Eminem\", \"Kanye West\", \"Lana Del Rey\"] \n",
    "nb_artists = len(artist_names)"
   ]
  },
  {
   "cell_type": "code",
   "execution_count": 19,
   "metadata": {},
   "outputs": [],
   "source": [
    "X, Y =   creating_X_Y(artist_names)\n",
    "X_train, X_test, y_train, y_test = train_test_split(X,Y,test_size = 0.2,random_state=42)"
   ]
  },
  {
   "cell_type": "code",
   "execution_count": 22,
   "metadata": {},
   "outputs": [
    {
     "name": "stdout",
     "output_type": "stream",
     "text": [
      "score:  0.836\n"
     ]
    }
   ],
   "source": [
    "clf = make_pipeline(CountVectorizer(), TfidfTransformer(), SVC(decision_function_shape = \"ovr\"))\n",
    "clf.fit(X_train,y_train)\n",
    "\n",
    "print( \"score: \", clf.score(X_test,y_test).round(3))"
   ]
  },
  {
   "cell_type": "code",
   "execution_count": 21,
   "metadata": {},
   "outputs": [
    {
     "data": {
      "text/plain": [
       "<sklearn.metrics._plot.confusion_matrix.ConfusionMatrixDisplay at 0x1e446a6e760>"
      ]
     },
     "execution_count": 21,
     "metadata": {},
     "output_type": "execute_result"
    },
    {
     "data": {
      "image/png": "[encoded data removed]",
      "text/plain": [
       "<Figure size 432x288 with 2 Axes>"
      ]
     },
     "metadata": {},
     "output_type": "display_data"
    }
   ],
   "source": [
    "ConfusionMatrixDisplay.from_estimator(clf, X_test, y_test, display_labels=clf.classes_, xticks_rotation='vertical')"
   ]
  },
  {
   "cell_type": "markdown",
   "metadata": {},
   "source": [
    "The score of the SVC is much better than the one for the naive bayes model."
   ]
  },
  {
   "cell_type": "markdown",
   "metadata": {},
   "source": [
    "Let's try out one last model."
   ]
  },
  {
   "cell_type": "markdown",
   "metadata": {},
   "source": [
    "## Random Forest for 2 artists <a class=\"anchor\" id=\"chapter8\"></a>"
   ]
  },
  {
   "cell_type": "code",
   "execution_count": 25,
   "metadata": {},
   "outputs": [],
   "source": [
    "artist_names = [\"Drake\", \"Kanye West\"] # enter artists' names present in the directory artist_data\n",
    "nb_artists = len(artist_names)"
   ]
  },
  {
   "cell_type": "code",
   "execution_count": 26,
   "metadata": {},
   "outputs": [
    {
     "name": "stdout",
     "output_type": "stream",
     "text": [
      "score:  0.765\n"
     ]
    }
   ],
   "source": [
    "X, Y =   creating_X_Y(artist_names)\n",
    "\n",
    "X_train, X_test, y_train, y_test = train_test_split(X,Y,test_size = 0.20,random_state=42)\n",
    "\n",
    "rand_forest = make_pipeline(CountVectorizer(), TfidfTransformer(),RandomForestClassifier())\n",
    "\n",
    "rand_forest.fit(X_train,y_train)\n",
    "\n",
    "print( \"score: \", rand_forest.score(X_test,y_test).round(3))"
   ]
  },
  {
   "cell_type": "code",
   "execution_count": 28,
   "metadata": {},
   "outputs": [
    {
     "data": {
      "text/plain": [
       "<sklearn.metrics._plot.confusion_matrix.ConfusionMatrixDisplay at 0x1e446a774c0>"
      ]
     },
     "execution_count": 28,
     "metadata": {},
     "output_type": "execute_result"
    },
    {
     "data": {
      "image/png": "[encoded data removed]",
      "text/plain": [
       "<Figure size 432x288 with 2 Axes>"
      ]
     },
     "metadata": {},
     "output_type": "display_data"
    }
   ],
   "source": [
    "ConfusionMatrixDisplay.from_estimator(rand_forest, X_test, y_test, display_labels=rand_forest.classes_, xticks_rotation='vertical')"
   ]
  },
  {
   "cell_type": "markdown",
   "metadata": {},
   "source": [
    "## Random Forest for 6 artists <a class=\"anchor\" id=\"chapter9\"></a>"
   ]
  },
  {
   "cell_type": "code",
   "execution_count": 29,
   "metadata": {},
   "outputs": [
    {
     "data": {
      "text/plain": [
       "0.84"
      ]
     },
     "execution_count": 29,
     "metadata": {},
     "output_type": "execute_result"
    }
   ],
   "source": [
    "artist_names = [\"Adele\", \"Bruno Mars\", \"Drake\", \"Eminem\", \"Kanye West\", \"Lana Del Rey\"] \n",
    "nb_artists = len(artist_names)\n",
    "\n",
    "X, Y =   creating_X_Y(artist_names)\n",
    "X_train, X_test, y_train, y_test = train_test_split(X,Y,test_size = 0.2,random_state=42)\n",
    "\n",
    "rand_forest = make_pipeline(CountVectorizer(), TfidfTransformer(), RandomForestClassifier())\n",
    "rand_forest.fit(X_train,y_train)\n",
    "\n",
    "rand_forest.score(X_test,y_test).round(2)"
   ]
  },
  {
   "cell_type": "code",
   "execution_count": 30,
   "metadata": {},
   "outputs": [
    {
     "data": {
      "text/plain": [
       "<sklearn.metrics._plot.confusion_matrix.ConfusionMatrixDisplay at 0x1e4480d88e0>"
      ]
     },
     "execution_count": 30,
     "metadata": {},
     "output_type": "execute_result"
    },
    {
     "data": {
      "image/png": "[encoded data removed]",
      "text/plain": [
       "<Figure size 432x288 with 2 Axes>"
      ]
     },
     "metadata": {},
     "output_type": "display_data"
    }
   ],
   "source": [
    "ConfusionMatrixDisplay.from_estimator(clf, X_test, y_test, display_labels=rand_forest.classes_, xticks_rotation='vertical')"
   ]
  },
  {
   "cell_type": "markdown",
   "metadata": {},
   "source": [
    "The score of the random forest is also really good."
   ]
  },
  {
   "cell_type": "markdown",
   "metadata": {},
   "source": [
    "## Conclusion <a class=\"anchor\" id=\"chapter7\"></a>"
   ]
  },
  {
   "cell_type": "markdown",
   "metadata": {},
   "source": [
    "The model with the score seems to be the random forest withe 0.87."
   ]
  },
  {
   "cell_type": "markdown",
   "metadata": {},
   "source": [
    "## For further : attempt of neural network <a class=\"anchor\" id=\"chapter8\"></a>"
   ]
  },
  {
   "cell_type": "markdown",
   "metadata": {},
   "source": [
    "Given the lower scores observed when we try to work with more than 2 artists, we tried to look for deep-learning model, however the parameters still need to be improved..."
   ]
  },
  {
   "cell_type": "code",
   "execution_count": 41,
   "metadata": {},
   "outputs": [],
   "source": [
    "import keras\n",
    "from keras.models import Sequential\n",
    "from keras.layers import Dense, Activation, Dropout, Embedding, SpatialDropout1D, LSTM"
   ]
  },
  {
   "cell_type": "code",
   "execution_count": 42,
   "metadata": {},
   "outputs": [],
   "source": [
    "artist_names = [\"Drake\", \"Adele\", \"Lana Del Rey\",\"Eminem\"]\n",
    "nb_artists = len(artist_names)"
   ]
  },
  {
   "cell_type": "code",
   "execution_count": 45,
   "metadata": {},
   "outputs": [],
   "source": [
    "X = []\n",
    "Y = []\n",
    "\n",
    "def tokenized_lyrics(lyrics):\n",
    "    return word_tokenize(str(lyrics))\n",
    "\n",
    "for artist in artist_names:\n",
    "    data = pd.read_csv(f'./artist_data/discography_{artist}')\n",
    "    data['CTL2'] = data['Clean Lyrics'].apply(tokenized_lyrics)\n",
    "    X += (data[\"CTL2\"].values.tolist())\n",
    "    for i in range(len(data)):\n",
    "        one_h = np.zeros(nb_artists) \n",
    "        artist_index = artist.index(artist)\n",
    "        one_h[artist_index] = 1\n",
    "        Y.append(one_h)\n",
    "        \n",
    "# Tokenize the songs in the X vector\n",
    "word_tokens = {}\n",
    "for song in X:\n",
    "    for word in song: \n",
    "        if word not in word_tokens.keys():\n",
    "            if (len(word_tokens.keys()) == 0):\n",
    "                word_tokens[word] = 1\n",
    "            else:\n",
    "                word_tokens[word] = len(word_tokens) + 1\n",
    "                \n",
    "token_x = []\n",
    "for song in X:\n",
    "    new_song = []\n",
    "    for word in song:\n",
    "        new_song.append(word_tokens[word])\n",
    "    token_x.append(np.array(new_song))\n",
    "X = token_x\n",
    "\n",
    "# We removed the songs that have less then 100 words\n",
    "cutoff = 100\n",
    "new_x = []\n",
    "new_y = []\n",
    "for i in range(len(X)):\n",
    "    if (len(X[i]) >= cutoff):\n",
    "        new_x.append(X[i])\n",
    "        new_y.append(Y[i])\n",
    "X = new_x\n",
    "Y = new_y\n",
    "\n",
    "# We keep 100 words for each song\n",
    "trimmed = []\n",
    "for song in X:\n",
    "    song = song[:100]\n",
    "    trimmed.append(song)\n",
    "X = trimmed\n",
    "\n",
    "# Conversion to numpy-array\n",
    "X = np.array(X)\n",
    "Y = np.array(Y)"
   ]
  },
  {
   "cell_type": "code",
   "execution_count": 46,
   "metadata": {},
   "outputs": [],
   "source": [
    "X_train, X_test, y_train, y_test = train_test_split(X, Y, test_size=0.10, random_state=42)"
   ]
  },
  {
   "cell_type": "code",
   "execution_count": 47,
   "metadata": {},
   "outputs": [
    {
     "name": "stdout",
     "output_type": "stream",
     "text": [
      "Model: \"sequential_4\"\n",
      "_________________________________________________________________\n",
      " Layer (type)                Output Shape              Param #   \n",
      "=================================================================\n",
      " dense_24 (Dense)            (None, 128)               12928     \n",
      "                                                                 \n",
      " activation_20 (Activation)  (None, 128)               0         \n",
      "                                                                 \n",
      " dense_25 (Dense)            (None, 1500)              193500    \n",
      "                                                                 \n",
      " activation_21 (Activation)  (None, 1500)              0         \n",
      "                                                                 \n",
      " dense_26 (Dense)            (None, 500)               750500    \n",
      "                                                                 \n",
      " activation_22 (Activation)  (None, 500)               0         \n",
      "                                                                 \n",
      " dense_27 (Dense)            (None, 225)               112725    \n",
      "                                                                 \n",
      " activation_23 (Activation)  (None, 225)               0         \n",
      "                                                                 \n",
      " dense_28 (Dense)            (None, 64)                14464     \n",
      "                                                                 \n",
      " activation_24 (Activation)  (None, 64)                0         \n",
      "                                                                 \n",
      " dense_29 (Dense)            (None, 4)                 260       \n",
      "                                                                 \n",
      "=================================================================\n",
      "Total params: 1,084,377\n",
      "Trainable params: 1,084,377\n",
      "Non-trainable params: 0\n",
      "_________________________________________________________________\n"
     ]
    }
   ],
   "source": [
    "model = Sequential([\n",
    "    Dense(128, input_shape=(100,)),\n",
    "    Activation('softmax'),\n",
    "    Dense(1500),\n",
    "    Activation('softmax'),\n",
    "    Dense(500),\n",
    "    Activation('relu'),\n",
    "    Dense(225),\n",
    "    Activation('relu'),\n",
    "    Dense(64),\n",
    "    Activation('softmax'),\n",
    "    Dense(nb_artists)\n",
    "])\n",
    "\n",
    "model.compile(optimizer='rmsprop',\n",
    "              loss='mse',\n",
    "              metrics=['accuracy'])\n",
    "\n",
    "model.summary()"
   ]
  },
  {
   "cell_type": "code",
   "execution_count": 48,
   "metadata": {},
   "outputs": [
    {
     "data": {
      "text/plain": [
       "<keras.callbacks.History at 0x7fea50149400>"
      ]
     },
     "execution_count": 48,
     "metadata": {},
     "output_type": "execute_result"
    }
   ],
   "source": [
    "epochs = 900\n",
    "batch_size = 24\n",
    "model.fit(X_train,\n",
    "          y_train,\n",
    "          epochs=epochs,\n",
    "          batch_size=batch_size,\n",
    "          validation_split=0.1,\n",
    "          verbose=0)"
   ]
  },
  {
   "cell_type": "code",
   "execution_count": 49,
   "metadata": {},
   "outputs": [
    {
     "data": {
      "text/plain": [
       "[7.496910257032141e-07, 1.0]"
      ]
     },
     "execution_count": 49,
     "metadata": {},
     "output_type": "execute_result"
    }
   ],
   "source": [
    "model.evaluate(X_train, y_train, verbose=False)"
   ]
  }
 ],
 "metadata": {
  "kernelspec": {
   "display_name": "Python 3 (Spyder)",
   "language": "python3",
   "name": "python3"
  },
  "language_info": {
   "codemirror_mode": {
    "name": "ipython",
    "version": 3
   },
   "file_extension": ".py",
   "mimetype": "text/x-python",
   "name": "python",
   "nbconvert_exporter": "python",
   "pygments_lexer": "ipython3",
   "version": "3.8.3"
  }
 },
 "nbformat": 4,
 "nbformat_minor": 4
}
