{
 "cells": [
  {
   "cell_type": "markdown",
   "metadata": {},
   "source": [
    "# Database Creation"
   ]
  },
  {
   "cell_type": "markdown",
   "metadata": {},
   "source": [
    "As its name implies it, the first step of any Data Science project consist in **gathering data**.\n",
    "\n",
    "In this project we decided to establish a model which would be able to recognize an artist thanks to the lyrics of a song.\n",
    "\n",
    "Thefore, to collect these data, we scrapped the website called **Genius** (https://genius.com/). **Genius** is a music media dealing with the latest music release and news. However it is more widely known for containing the lyrics, and lyrics explanations, for almost every music ever released.\n",
    "\n",
    "We scrapped this website for a few choosen artist thanks to the Genius API *LyricsGenius*."
   ]
  },
  {
   "cell_type": "markdown",
   "metadata": {},
   "source": [
    "* [Step 0 : Pre-Requirements](#first-bullet)\n",
    "* [Step 1 : Data Scrapping](#second-bullet)\n",
    "* [Step 2 : Data Cleaning & Database Enrichment](#third-bullet)"
   ]
  },
  {
   "cell_type": "markdown",
   "metadata": {},
   "source": [
    " "
   ]
  },
  {
   "cell_type": "markdown",
   "metadata": {},
   "source": [
    "### Step 0 : Pre-Requirements <a class=\"anchor\" id=\"first-bullet\"></a>"
   ]
  },
  {
   "cell_type": "markdown",
   "metadata": {},
   "source": [
    "First off, we installed/imported the required packages. \n",
    "\n",
    "*NB : functions is a python file containing the customized functions needed to scrap our data, and elaborate our database.*"
   ]
  },
  {
   "cell_type": "raw",
   "metadata": {},
   "source": [
    "pip install lyricsgenius"
   ]
  },
  {
   "cell_type": "code",
   "execution_count": 1,
   "metadata": {},
   "outputs": [],
   "source": [
    "from lyricsgenius import Genius\n",
    "import pandas as pd\n",
    "import functions as fc"
   ]
  },
  {
   "cell_type": "markdown",
   "metadata": {},
   "source": [
    "The use of this API required an access token. Here's the token created for this project. "
   ]
  },
  {
   "cell_type": "code",
   "execution_count": 2,
   "metadata": {},
   "outputs": [],
   "source": [
    "#token permettant de scrapper genius\n",
    "token = 'sxXw2RwH_IyZ_AYE4gvp8Myo7sT0z8B-wEErToK43kDfEXk7pLBf0X7nfauTmh0g'\n",
    "genius = Genius(token,timeout=45,retries=3)"
   ]
  },
  {
   "cell_type": "markdown",
   "metadata": {},
   "source": [
    "We met a conflict between virutal environment with the use of the genius.lyrics function. We thus had to define the lyrics_for_df function in this file."
   ]
  },
  {
   "cell_type": "code",
   "execution_count": 3,
   "metadata": {},
   "outputs": [],
   "source": [
    "def lyrics_for_df(id_):\n",
    "    return genius.lyrics(song_id=id_)"
   ]
  },
  {
   "cell_type": "markdown",
   "metadata": {},
   "source": [
    "### Step 1 : Data Scrapping <a class=\"anchor\" id=\"second-bullet\"></a>"
   ]
  },
  {
   "cell_type": "markdown",
   "metadata": {},
   "source": [
    "The following cell enables you type the name of the artist from which you want the discography.\n",
    "\n",
    "Please run the cell and do not misspell the name of the artist when asked you.\n",
    "\n",
    "In our examples, we scrapped the discography of the following artists: \n",
    "- *Drake, Kanye West, Lana Del Rey, Bruno Mars, Adele, Eminem, Rihanna*."
   ]
  },
  {
   "cell_type": "code",
   "execution_count": 5,
   "metadata": {},
   "outputs": [
    {
     "name": "stdout",
     "output_type": "stream",
     "text": [
      "Which artist do you want to scrap?\n"
     ]
    },
    {
     "name": "stdin",
     "output_type": "stream",
     "text": [
      "Artist name :  Drake\n"
     ]
    },
    {
     "name": "stdout",
     "output_type": "stream",
     "text": [
      "Processing...  Album n° 1 / 19 | Certified Lover Boy\n",
      "Scrapping done\n"
     ]
    }
   ],
   "source": [
    "print('Which artist do you want to scrap?')\n",
    "artist_name = input(\"Artist name : \")\n",
    "artist_id = genius.search_artists(artist_name)['sections'][0]['hits'][0]['result']['id']\n",
    "\n",
    "# creation of a DataFrame containing data on every album from the given artist\n",
    "albums_artist = fc.albums_data(artist_id, artist_name)\n",
    "\n",
    "\n",
    "#initialisation\n",
    "df_artist = pd.DataFrame()\n",
    "compteur = 1\n",
    "\n",
    "for album_id in albums_artist['id']:\n",
    "    try :\n",
    "        print(\"Processing...\" , f\" Album n° {compteur} / {len(albums_artist)}\",'|',pd.DataFrame(albums_artist.loc[albums_artist['id'] == album_id])['name'].values[0])\n",
    "        compteur += 1\n",
    "        \n",
    "        # creation of a DataFrame containing data on every song of the album\n",
    "        tracklist = fc.tracklist_data(album_id,albums_artist)\n",
    "        tracklist['Lyrics'] = tracklist['song_id'].apply(lyrics_for_df)\n",
    "        \n",
    "        # concatenation of every albums data to create the discography\n",
    "        df_artist = pd.concat([df_artist, tracklist], axis=0)\n",
    "\n",
    "    except :\n",
    "        # some albums may not include any lyrics (instrumental albums)\n",
    "        print('Impossible to scrap this album')\n",
    "\n",
    "df_artist = df_artist.dropna()\n",
    "\n",
    "df_artist.to_csv(f'artist_data/discography_{artist_name}')\n",
    "print('Scrapping done')"
   ]
  },
  {
   "cell_type": "markdown",
   "metadata": {},
   "source": [
    "The scrapped data is contained in a csv with the following format "
   ]
  },
  {
   "cell_type": "code",
   "execution_count": 6,
   "metadata": {},
   "outputs": [
    {
     "data": {
      "text/html": [
       "<div>\n",
       "<style scoped>\n",
       "    .dataframe tbody tr th:only-of-type {\n",
       "        vertical-align: middle;\n",
       "    }\n",
       "\n",
       "    .dataframe tbody tr th {\n",
       "        vertical-align: top;\n",
       "    }\n",
       "\n",
       "    .dataframe thead th {\n",
       "        text-align: right;\n",
       "    }\n",
       "</style>\n",
       "<table border=\"1\" class=\"dataframe\">\n",
       "  <thead>\n",
       "    <tr style=\"text-align: right;\">\n",
       "      <th></th>\n",
       "      <th>Title</th>\n",
       "      <th>song_id</th>\n",
       "      <th>Featuring</th>\n",
       "      <th>Album</th>\n",
       "      <th>album_id</th>\n",
       "      <th>Release Date</th>\n",
       "      <th>Artist</th>\n",
       "      <th>Lyrics</th>\n",
       "    </tr>\n",
       "  </thead>\n",
       "  <tbody>\n",
       "    <tr>\n",
       "      <th>0</th>\n",
       "      <td>Champagne Poetry</td>\n",
       "      <td>6859296</td>\n",
       "      <td>Drake</td>\n",
       "      <td>Certified Lover Boy</td>\n",
       "      <td>585647</td>\n",
       "      <td>{'year': 2021, 'month': 9, 'day': 3}</td>\n",
       "      <td>Drake</td>\n",
       "      <td>[Part I]\\n\\n[Intro]\\nI love you, I love you, I...</td>\n",
       "    </tr>\n",
       "    <tr>\n",
       "      <th>1</th>\n",
       "      <td>Papi’s Home</td>\n",
       "      <td>7165569</td>\n",
       "      <td>Drake</td>\n",
       "      <td>Certified Lover Boy</td>\n",
       "      <td>585647</td>\n",
       "      <td>{'year': 2021, 'month': 9, 'day': 3}</td>\n",
       "      <td>Drake</td>\n",
       "      <td>[Intro: Drake &amp; Montell Jordan]\\nI know that I...</td>\n",
       "    </tr>\n",
       "    <tr>\n",
       "      <th>2</th>\n",
       "      <td>Girls Want Girls</td>\n",
       "      <td>7165581</td>\n",
       "      <td>Drake (Ft. Lil Baby)</td>\n",
       "      <td>Certified Lover Boy</td>\n",
       "      <td>585647</td>\n",
       "      <td>{'year': 2021, 'month': 9, 'day': 3}</td>\n",
       "      <td>Drake</td>\n",
       "      <td>[Intro: Drake]\\nWoah, woah\\nWoah, woah, woah\\n...</td>\n",
       "    </tr>\n",
       "  </tbody>\n",
       "</table>\n",
       "</div>"
      ],
      "text/plain": [
       "              Title  song_id             Featuring                Album  \\\n",
       "0  Champagne Poetry  6859296                 Drake  Certified Lover Boy   \n",
       "1       Papi’s Home  7165569                 Drake  Certified Lover Boy   \n",
       "2  Girls Want Girls  7165581  Drake (Ft. Lil Baby)  Certified Lover Boy   \n",
       "\n",
       "   album_id                          Release Date Artist  \\\n",
       "0    585647  {'year': 2021, 'month': 9, 'day': 3}  Drake   \n",
       "1    585647  {'year': 2021, 'month': 9, 'day': 3}  Drake   \n",
       "2    585647  {'year': 2021, 'month': 9, 'day': 3}  Drake   \n",
       "\n",
       "                                              Lyrics  \n",
       "0  [Part I]\\n\\n[Intro]\\nI love you, I love you, I...  \n",
       "1  [Intro: Drake & Montell Jordan]\\nI know that I...  \n",
       "2  [Intro: Drake]\\nWoah, woah\\nWoah, woah, woah\\n...  "
      ]
     },
     "execution_count": 6,
     "metadata": {},
     "output_type": "execute_result"
    }
   ],
   "source": [
    "df_artist.head(3)"
   ]
  },
  {
   "cell_type": "markdown",
   "metadata": {},
   "source": [
    "### Step 2 : Data Cleaning & Database Enrichment <a class=\"anchor\" id=\"third-bullet\"></a>"
   ]
  },
  {
   "cell_type": "markdown",
   "metadata": {},
   "source": [
    "In order to further exploit the data, we must **preprocess it**. As with every Natural Language Processing project, we had to clean the textual data.\n",
    "\n",
    "Here are our the main steps toward to cleaning our text: \n",
    " - **remove the punctuation** and **lower** every character\n",
    " - **lemmatize** the words (reduce every word to his radical (as every model is statistic based))\n",
    " - remove every **text pattern** specific to genius \n",
    " \n",
    "Generally, we also remove the stopwords from the text (senseless words like \"i\",\"you\",\"a\",\"an\",\"the\"...). However, in our case, the statistical models use tfidf matrix, which do not take these words into account thanks to its mathematical definition.\n",
    "\n"
   ]
  },
  {
   "cell_type": "code",
   "execution_count": 7,
   "metadata": {},
   "outputs": [],
   "source": [
    "df_artist['Clean Lyrics'] = df_artist['Lyrics'].apply(fc.lyrics_cleaning)\n",
    "df_artist['Clean Tokenized Lyrics'] = df_artist['Clean Lyrics'].apply(fc.tokenized_lyrics)"
   ]
  },
  {
   "cell_type": "markdown",
   "metadata": {},
   "source": [
    "We noticed that we could deduce from our data some additional indicators which might be interesting for data vizualization and might help improve our models (the number of verses, the length of the song, the presence of intro/outro to the song...)\n",
    "\n",
    "The following cell therefore helps enriching our database."
   ]
  },
  {
   "cell_type": "code",
   "execution_count": 8,
   "metadata": {},
   "outputs": [],
   "source": [
    "df_artist['Word Frequency in song'] = df_artist['Clean Tokenized Lyrics'].apply(fc.dict_freq_words)\n",
    "df_artist['Release Date'] = df_artist['Release Date'].apply(fc.release_date)\n",
    "df_artist['Intro'] = df_artist['Lyrics'].apply(fc.intro_detection)\n",
    "df_artist['Interlude'] = df_artist['Lyrics'].apply(fc.nbr_interlude)\n",
    "df_artist['Chorus'] = df_artist['Lyrics'].apply(fc.nbr_chorus)\n",
    "df_artist['Bridge'] = df_artist['Lyrics'].apply(fc.nbr_bridge)\n",
    "df_artist['Pre-Chorus'] = df_artist['Lyrics'].apply(fc.nbr_pre_chorus)\n",
    "df_artist['Parts'] = df_artist['Lyrics'].apply(fc.nbr_parts)\n",
    "df_artist['Verses'] = df_artist['Lyrics'].apply(fc.nbr_verses)\n",
    "df_artist['Outro'] = df_artist['Lyrics'].apply(fc.outro_detection)\n",
    "df_artist['Song Length'] = df_artist['Clean Tokenized Lyrics'].apply(fc.len_song)\n",
    "df_artist['Featuring'] = df_artist[['Featuring', 'Artist']].apply(fc.featuring, axis=1)\n",
    "\n",
    "df_artist.to_csv(f\"artist_data/discography_{artist_name}\")"
   ]
  },
  {
   "cell_type": "markdown",
   "metadata": {},
   "source": [
    "After this improvement step, our database contains the following indicators"
   ]
  },
  {
   "cell_type": "code",
   "execution_count": 13,
   "metadata": {},
   "outputs": [
    {
     "data": {
      "text/html": [
       "<div>\n",
       "<style scoped>\n",
       "    .dataframe tbody tr th:only-of-type {\n",
       "        vertical-align: middle;\n",
       "    }\n",
       "\n",
       "    .dataframe tbody tr th {\n",
       "        vertical-align: top;\n",
       "    }\n",
       "\n",
       "    .dataframe thead th {\n",
       "        text-align: right;\n",
       "    }\n",
       "</style>\n",
       "<table border=\"1\" class=\"dataframe\">\n",
       "  <thead>\n",
       "    <tr style=\"text-align: right;\">\n",
       "      <th></th>\n",
       "      <th>Title</th>\n",
       "      <th>Featuring</th>\n",
       "      <th>Album</th>\n",
       "      <th>Release Date</th>\n",
       "      <th>Artist</th>\n",
       "      <th>Intro</th>\n",
       "      <th>Interlude</th>\n",
       "      <th>Chorus</th>\n",
       "      <th>Bridge</th>\n",
       "      <th>Pre-Chorus</th>\n",
       "      <th>Parts</th>\n",
       "      <th>Verses</th>\n",
       "      <th>Outro</th>\n",
       "      <th>Song Length</th>\n",
       "    </tr>\n",
       "  </thead>\n",
       "  <tbody>\n",
       "    <tr>\n",
       "      <th>0</th>\n",
       "      <td>Champagne Poetry</td>\n",
       "      <td>0</td>\n",
       "      <td>Certified Lover Boy</td>\n",
       "      <td>2021</td>\n",
       "      <td>Drake</td>\n",
       "      <td>1</td>\n",
       "      <td>2</td>\n",
       "      <td>0</td>\n",
       "      <td>0</td>\n",
       "      <td>0</td>\n",
       "      <td>2</td>\n",
       "      <td>3</td>\n",
       "      <td>1</td>\n",
       "      <td>918</td>\n",
       "    </tr>\n",
       "    <tr>\n",
       "      <th>10</th>\n",
       "      <td>Yebba’s Heartbreak</td>\n",
       "      <td>1</td>\n",
       "      <td>Certified Lover Boy</td>\n",
       "      <td>2021</td>\n",
       "      <td>Drake</td>\n",
       "      <td>0</td>\n",
       "      <td>0</td>\n",
       "      <td>0</td>\n",
       "      <td>0</td>\n",
       "      <td>0</td>\n",
       "      <td>0</td>\n",
       "      <td>1</td>\n",
       "      <td>0</td>\n",
       "      <td>133</td>\n",
       "    </tr>\n",
       "    <tr>\n",
       "      <th>13</th>\n",
       "      <td>7am on Bridle Path</td>\n",
       "      <td>0</td>\n",
       "      <td>Certified Lover Boy</td>\n",
       "      <td>2021</td>\n",
       "      <td>Drake</td>\n",
       "      <td>1</td>\n",
       "      <td>0</td>\n",
       "      <td>0</td>\n",
       "      <td>0</td>\n",
       "      <td>0</td>\n",
       "      <td>0</td>\n",
       "      <td>1</td>\n",
       "      <td>1</td>\n",
       "      <td>784</td>\n",
       "    </tr>\n",
       "  </tbody>\n",
       "</table>\n",
       "</div>"
      ],
      "text/plain": [
       "                 Title  Featuring                Album  Release Date Artist  \\\n",
       "0     Champagne Poetry          0  Certified Lover Boy          2021  Drake   \n",
       "10  Yebba’s Heartbreak          1  Certified Lover Boy          2021  Drake   \n",
       "13  7am on Bridle Path          0  Certified Lover Boy          2021  Drake   \n",
       "\n",
       "    Intro  Interlude  Chorus  Bridge  Pre-Chorus  Parts  Verses  Outro  \\\n",
       "0       1          2       0       0           0      2       3      1   \n",
       "10      0          0       0       0           0      0       1      0   \n",
       "13      1          0       0       0           0      0       1      1   \n",
       "\n",
       "    Song Length  \n",
       "0           918  \n",
       "10          133  \n",
       "13          784  "
      ]
     },
     "execution_count": 13,
     "metadata": {},
     "output_type": "execute_result"
    }
   ],
   "source": [
    "df_artist.drop(['Lyrics','Clean Tokenized Lyrics','Word Frequency in song','Clean Lyrics','song_id','album_id'],axis=1).sample(frac=1).head(3)"
   ]
  },
  {
   "cell_type": "markdown",
   "metadata": {},
   "source": [
    "csv documents are created for each artist and stored in the *artist_data* folder.\n",
    "\n",
    "You can scrap data for other artists by repeating the operations from [this point](#second-bullet)."
   ]
  }
 ],
 "metadata": {
  "kernelspec": {
   "display_name": "Python 3",
   "language": "python",
   "name": "python3"
  },
  "language_info": {
   "codemirror_mode": {
    "name": "ipython",
    "version": 3
   },
   "file_extension": ".py",
   "mimetype": "text/x-python",
   "name": "python",
   "nbconvert_exporter": "python",
   "pygments_lexer": "ipython3",
   "version": "3.8.3"
  }
 },
 "nbformat": 4,
 "nbformat_minor": 4
}
