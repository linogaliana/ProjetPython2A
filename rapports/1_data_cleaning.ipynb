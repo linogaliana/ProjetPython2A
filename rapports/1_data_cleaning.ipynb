{
 "cells": [
  {
   "cell_type": "markdown",
   "metadata": {},
   "source": [
    "# Imports"
   ]
  },
  {
   "cell_type": "code",
   "execution_count": null,
   "metadata": {},
   "outputs": [],
   "source": [
    "from lyricsgenius import Genius\n",
    "import pandas as pd"
   ]
  },
  {
   "cell_type": "code",
   "execution_count": null,
   "metadata": {},
   "outputs": [],
   "source": [
    "#token permettant de scrapper genius\n",
    "token = 'sxXw2RwH_IyZ_AYE4gvp8Myo7sT0z8B-wEErToK43kDfEXk7pLBf0X7nfauTmh0g'\n",
    "\n",
    "genius = Genius(token,timeout=45,retries=3)"
   ]
  },
  {
   "cell_type": "code",
   "execution_count": null,
   "metadata": {},
   "outputs": [],
   "source": [
    "def lyrics_for_df(id_):\n",
    "    return genius.lyrics(song_id=id_)"
   ]
  },
  {
   "cell_type": "code",
   "execution_count": null,
   "metadata": {},
   "outputs": [],
   "source": [
    "#liste des artistes à scrapper\n",
    "#artiste + artist_id permettant d'identifier l'artiste sur genius\n",
    "list_artist_ids = [[72,'Kanye West'],[130,'Drake']\n",
    "                   [89,'Rihanna'],[15740,'Lana Del Rey'],\n",
    "                   [45,'Eminem']]"
   ]
  },
  {
   "cell_type": "code",
   "execution_count": null,
   "metadata": {},
   "outputs": [],
   "source": [
    "df_total = pd.DataFrame()\n",
    "\n",
    "for artist_id, artist_name in list_artist_ids:\n",
    "\n",
    "    print(artist_name)\n",
    "\n",
    "    # création d'un DF contenant les infos de l'ensemble des albums de l'artiste\n",
    "    albums_artist = pd.concat([pd.DataFrame.from_dict(genius.artist_albums(artist_id=artist_id)['albums'])['name'],\n",
    "                               pd.DataFrame.from_dict(genius.artist_albums(artist_id=artist_id)['albums'])['id'],\n",
    "                               pd.DataFrame.from_dict(genius.artist_albums(artist_id=artist_id)['albums'])[\n",
    "                                   'release_date_components']],\n",
    "                              axis=1)\n",
    "\n",
    "    albums_artist['Artiste'] = artist_name\n",
    "\n",
    "    df_artist = pd.DataFrame()\n",
    "\n",
    "    compteur = 1\n",
    "\n",
    "    for album_id in albums_artist['id']:\n",
    "\n",
    "        try :\n",
    "            tracklist = pd.DataFrame([i['song'] for i in genius.album_tracks(album_id)['tracks']])\n",
    "\n",
    "            v = pd.DataFrame(albums_artist.loc[albums_artist['id'] == album_id])\n",
    "\n",
    "            print(v['name'].values)\n",
    "            print(f'album {compteur}/{len(albums_artist)}')\n",
    "            compteur += 1\n",
    "\n",
    "            data_annexes = [v['name'].values[0], v['id'].values[0], v['release_date_components'].values[0],\n",
    "                            v['Artiste'].values[0]]\n",
    "            annexe = pd.DataFrame([data_annexes for i in range(len(genius.album_tracks(album_id)['tracks']))],\n",
    "                                  columns=[\"Album\", \"album_id\", \"Date de sortie\", \"Artiste\"])\n",
    "\n",
    "            tracklist = pd.concat([tracklist['title'], tracklist['id'], tracklist['artist_names'], annexe], axis=1)\n",
    "            tracklist = tracklist.rename(columns={'title': 'Titre', 'id': 'song_id', 'artist_names': 'Artiste (features)'})\n",
    "\n",
    "            tracklist['Lyrics'] = tracklist['song_id'].apply(lyrics_for_df)\n",
    "\n",
    "            df_artist = pd.concat([df_artist, tracklist], axis=0)\n",
    "\n",
    "        except :\n",
    "\n",
    "            print('Impossible to scrap this album')\n",
    "\n",
    "        #print(df_artist)\n",
    "\n",
    "    df_artist.to_csv(f'scrapped_data/discography_{artist_name}')\n",
    "\n",
    "    df_total = pd.concat([df_total, df_artist], axis=0)\n",
    "\n",
    "df_total.to_csv('scrapped_data/fulldatabase')"
   ]
  }
 ],
 "metadata": {
  "kernelspec": {
   "display_name": "Python 3",
   "language": "python",
   "name": "python3"
  },
  "language_info": {
   "codemirror_mode": {
    "name": "ipython",
    "version": 3
   },
   "file_extension": ".py",
   "mimetype": "text/x-python",
   "name": "python",
   "nbconvert_exporter": "python",
   "pygments_lexer": "ipython3",
   "version": "3.8.3"
  }
 },
 "nbformat": 4,
 "nbformat_minor": 4
}
