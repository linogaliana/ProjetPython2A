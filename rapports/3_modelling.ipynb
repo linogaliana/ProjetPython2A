{
 "cells": [
  {
   "cell_type": "markdown",
   "metadata": {},
   "source": [
    "# Sommaire"
   ]
  },
  {
   "cell_type": "markdown",
   "metadata": {},
   "source": [
    "* [Imports](#chapter1)\n",
    "* [Decision Tree](#chapter2)\n",
    "* [Naive Bayes](#chapter3)\n",
    "* [SVM](#chapter4)\n",
    "* [Random Forest](#chapter5)"
   ]
  },
  {
   "cell_type": "markdown",
   "metadata": {},
   "source": [
    "### Imports <a class=\"anchor\" id=\"chapter1\"></a>"
   ]
  },
  {
   "cell_type": "code",
   "execution_count": 1,
   "metadata": {},
   "outputs": [],
   "source": [
    "import os\n",
    "import pandas as pd\n",
    "import numpy as np\n",
    "from tqdm import tqdm\n",
    "from sklearn.model_selection import train_test_split\n",
    "import matplotlib.pylab as plt\n",
    "import collections\n",
    "\n",
    "from nltk.tokenize import word_tokenize\n",
    "\n",
    "from sklearn.feature_extraction.text import CountVectorizer\n",
    "from sklearn.feature_extraction.text import TfidfTransformer\n",
    "from sklearn.feature_extraction.text import TfidfVectorizer\n",
    "\n",
    "from sklearn.pipeline import Pipeline\n",
    "from sklearn.pipeline import make_pipeline\n",
    "from sklearn.tree import DecisionTreeClassifier\n",
    "from sklearn.naive_bayes import MultinomialNB\n",
    "from sklearn.model_selection import train_test_split"
   ]
  },
  {
   "cell_type": "markdown",
   "metadata": {},
   "source": [
    "### Decision Tree <a class=\"anchor\" id=\"chapter2\"></a>"
   ]
  },
  {
   "cell_type": "code",
   "execution_count": 3,
   "metadata": {},
   "outputs": [],
   "source": [
    "tfidf = pd.read_csv('/Users/emanieluu/Documents/pythonProject/ProjetPython2A/tfidf_Drake_Kanye West.csv') "
   ]
  },
  {
   "cell_type": "code",
   "execution_count": 6,
   "metadata": {},
   "outputs": [],
   "source": [
    "tfidf = tfidf.drop([\"Unnamed: 0\"],axis = 1)"
   ]
  },
  {
   "cell_type": "code",
   "execution_count": 9,
   "metadata": {},
   "outputs": [
    {
     "name": "stdout",
     "output_type": "stream",
     "text": [
      "0/200\n",
      "10/200\n",
      "20/200\n",
      "30/200\n",
      "40/200\n",
      "50/200\n",
      "60/200\n",
      "70/200\n",
      "80/200\n",
      "90/200\n",
      "100/200\n",
      "110/200\n",
      "120/200\n",
      "130/200\n",
      "140/200\n",
      "150/200\n",
      "160/200\n",
      "170/200\n",
      "180/200\n",
      "190/200\n"
     ]
    },
    {
     "data": {
      "image/png": "[encoded data removed]",
      "text/plain": [
       "<Figure size 432x288 with 1 Axes>"
      ]
     },
     "metadata": {
      "needs_background": "light"
     },
     "output_type": "display_data"
    },
    {
     "name": "stdout",
     "output_type": "stream",
     "text": [
      "0.77748\n"
     ]
    }
   ],
   "source": [
    "list_accuracy = []\n",
    "for j in range(200):\n",
    "    \n",
    "    if j%10 ==0 :\n",
    "        print(f'{j}/200')\n",
    "        \n",
    "    tfidf = tfidf.sample(frac=1)\n",
    "    \n",
    "    rows, columns = tfidf.shape\n",
    "    b = columns - 1\n",
    "    X_train = tfidf.iloc[:, :-1][:int(rows // (10 / 8))] \n",
    "    X_test = tfidf.iloc[:, :-1][int(rows // (10 / 8)):] \n",
    "    y_train = tfidf.iloc[:, b:][:int(rows // (10 / 8))] \n",
    "    y_test = tfidf.iloc[:, b:][int(rows // (10 / 8)):]\n",
    "    \n",
    "    # Create Decision Tree classifer object\n",
    "    clf = DecisionTreeClassifier()\n",
    "    \n",
    "    # Train Decision Tree Classifer\n",
    "    clf = clf.fit(X_train, y_train)\n",
    "    \n",
    "    # Predict the response for test dataset\n",
    "    y_pred = clf.predict(X_test)\n",
    "    \n",
    "    compteur = 0\n",
    "    y_test_ = [y for y in y_test['Target']]\n",
    "    for i in range(len(y_pred)):\n",
    "        if y_pred[i] == y_test_[i]:\n",
    "            # print('Bonne prédiction')\n",
    "            compteur += 1\n",
    "    list_accuracy.append(compteur / len(y_pred))\n",
    "\n",
    "#plt.scatter(pd.DataFrame.from_dict(dict(collections.Counter(list_accuracy) ),orient='index').reset_index()['index'],\n",
    "#\n",
    "\n",
    "pd.DataFrame.from_dict(dict(collections.Counter(list_accuracy)),orient='index').reset_index()[0]\n",
    "plt.boxplot(list_accuracy)\n",
    "plt.show()\n",
    "\n",
    "print(np.mean(list_accuracy))"
   ]
  },
  {
   "cell_type": "code",
   "execution_count": null,
   "metadata": {},
   "outputs": [],
   "source": []
  },
  {
   "cell_type": "markdown",
   "metadata": {},
   "source": [
    "### Naive Bayes <a class=\"anchor\" id=\"chapter3\"></a>"
   ]
  },
  {
   "cell_type": "code",
   "execution_count": null,
   "metadata": {},
   "outputs": [],
   "source": [
    "X = []\n",
    "Y = []\n",
    "\n",
    "def tokenized_lyrics(lyrics):\n",
    "    # à voir comment améliorer en supprimant les stopwords + ponctuation\n",
    "    return word_tokenize(str(lyrics))\n",
    "\n",
    "for filename in os.listdir('./completed_data'):\n",
    "    data = pd.read_csv(open(f'./completed_data/{filename}'),encoding='utf-8', engine='c')\n",
    "    # ignore macOS files\n",
    "    if filename == '.DS_Store': continue        \n",
    "    artist_name = filename.replace('.csv', '')[18:]\n",
    "    data[\"Clean Lyrics\"] = data[\"Clean Lyrics\"].values.astype('U')\n",
    "    X += data[\"Clean Lyrics\"].values.tolist()\n",
    "    for i in range(len(data)):\n",
    "        #one_h = np.zeros(nb_artists) \n",
    "        #artist_index = artist_names.index(artist_name)\n",
    "        #one_h[artist_index] = 1\n",
    "        #add the one hot encoding to the Y array\n",
    "        Y.append(artist_name)"
   ]
  },
  {
   "cell_type": "code",
   "execution_count": null,
   "metadata": {},
   "outputs": [],
   "source": [
    "X_train, X_test, y_train, y_test = train_test_split(X,Y,test_size = 0.10,random_state=42)"
   ]
  },
  {
   "cell_type": "code",
   "execution_count": 2,
   "metadata": {},
   "outputs": [],
   "source": [
    "pipeline = make_pipeline(CountVectorizer(), TfidfTransformer(), MultinomialNB())"
   ]
  },
  {
   "cell_type": "code",
   "execution_count": null,
   "metadata": {},
   "outputs": [],
   "source": [
    "pipeline.fit(X_train,y_train)"
   ]
  },
  {
   "cell_type": "code",
   "execution_count": null,
   "metadata": {},
   "outputs": [],
   "source": [
    "pipeline.score(X_test,y_test).round(2)"
   ]
  },
  {
   "cell_type": "code",
   "execution_count": null,
   "metadata": {},
   "outputs": [],
   "source": [
    "texte = [X_test[8]]"
   ]
  },
  {
   "cell_type": "code",
   "execution_count": null,
   "metadata": {},
   "outputs": [],
   "source": [
    "y_test[8]"
   ]
  },
  {
   "cell_type": "code",
   "execution_count": null,
   "metadata": {},
   "outputs": [],
   "source": [
    "result = pipeline.predict_proba(texte)\n",
    "print(result)"
   ]
  },
  {
   "cell_type": "code",
   "execution_count": null,
   "metadata": {},
   "outputs": [],
   "source": [
    "print(f\"The artist is: {pipeline.classes_[result.argmax()]}\")"
   ]
  },
  {
   "cell_type": "code",
   "execution_count": null,
   "metadata": {},
   "outputs": [],
   "source": [
    "pipeline.classes_"
   ]
  },
  {
   "cell_type": "markdown",
   "metadata": {},
   "source": [
    "### SVM <a class=\"anchor\" id=\"chapter4\"></a>"
   ]
  },
  {
   "cell_type": "markdown",
   "metadata": {},
   "source": [
    "### Random Forest <a class=\"anchor\" id=\"chapter5\"></a>"
   ]
  },
  {
   "cell_type": "code",
   "execution_count": null,
   "metadata": {},
   "outputs": [],
   "source": []
  }
 ],
 "metadata": {
  "kernelspec": {
   "display_name": "Python 3",
   "language": "python",
   "name": "python3"
  },
  "language_info": {
   "codemirror_mode": {
    "name": "ipython",
    "version": 3
   },
   "file_extension": ".py",
   "mimetype": "text/x-python",
   "name": "python",
   "nbconvert_exporter": "python",
   "pygments_lexer": "ipython3",
   "version": "3.8.3"
  }
 },
 "nbformat": 4,
 "nbformat_minor": 4
}
