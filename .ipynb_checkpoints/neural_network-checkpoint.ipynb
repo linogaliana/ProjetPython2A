{
 "cells": [
  {
   "cell_type": "code",
   "execution_count": 221,
   "metadata": {},
   "outputs": [],
   "source": [
    "import os\n",
    "import numpy as np\n",
    "from tqdm import tqdm\n",
    "from sklearn.model_selection import train_test_split\n",
    "import matplotlib.pylab as plt\n",
    "\n",
    "from nltk.tokenize import word_tokenize\n",
    "\n",
    "# Neural network librairies \n",
    "import keras\n",
    "from keras.models import Sequential\n",
    "from keras.layers import Dense, Activation, Dropout, Embedding, SpatialDropout1D, LSTM"
   ]
  },
  {
   "cell_type": "code",
   "execution_count": 64,
   "metadata": {},
   "outputs": [],
   "source": [
    "artist_names = [\"Drake\", \"Adele\", \"Lana Del Rey\", \"Bruno Mars\", \"Drake\"]\n",
    "nb_artists = len(artist_names)"
   ]
  },
  {
   "cell_type": "markdown",
   "metadata": {},
   "source": [
    "# Préparation data"
   ]
  },
  {
   "cell_type": "code",
   "execution_count": 222,
   "metadata": {},
   "outputs": [
    {
     "name": "stdout",
     "output_type": "stream",
     "text": [
      "(543, 100)\n",
      "(543, 5)\n"
     ]
    }
   ],
   "source": [
    "# get basic X, Y sets for training + testing\n",
    "# X is tokenized song lyrics\n",
    "# Y is the one-hot encoding of the artists\n",
    "X = []\n",
    "Y = []\n",
    "\n",
    "def tokenized_lyrics(lyrics):\n",
    "    # à voir comment améliorer en supprimant les stopwords + ponctuation\n",
    "    return word_tokenize(str(lyrics))\n",
    "\n",
    "for filename in os.listdir('./completed_data'):\n",
    "    data = pd.read_csv(f'./completed_data/{filename}')\n",
    "    # ignore macOS files\n",
    "    if filename == '.DS_Store': continue        \n",
    "    artist_name = filename.replace('.csv', '')[18:]\n",
    "    data['CTL2'] = data['Clean Lyrics'].apply(tokenized_lyrics)\n",
    "    # ensure we have 100 songs for the artist\n",
    "    # add the raw song lyrics to the X data\n",
    "    X += (data[\"CTL2\"].values.tolist())\n",
    "    # one hot encode artist\n",
    "    for i in range(len(data)):\n",
    "        one_h = np.zeros(nb_artists) \n",
    "        artist_index = artist_names.index(artist_name)\n",
    "        one_h[artist_index] = 1\n",
    "        # add the one hot encoding to the Y array\n",
    "        Y.append(one_h)\n",
    "\n",
    "\n",
    "# Tokenize the songs in the X vector\n",
    "# so we are mapping each word to it's key in the big_word_list\n",
    "word_tokens = {}\n",
    "for song in X:\n",
    "    for word in song: \n",
    "        if word not in word_tokens.keys():\n",
    "            if (len(word_tokens.keys()) == 0):\n",
    "                word_tokens[word] = 1\n",
    "            else:\n",
    "                word_tokens[word] = len(word_tokens) + 1\n",
    "                \n",
    "token_x = []\n",
    "for song in X:\n",
    "    new_song = []\n",
    "    for word in song:\n",
    "        new_song.append(word_tokens[word])\n",
    "    token_x.append(np.array(new_song))\n",
    "X = token_x\n",
    "\n",
    "# On enlève les chansons qui ont moins de 100 mots \n",
    "cutoff = 100\n",
    "new_x = []\n",
    "new_y = []\n",
    "for i in range(len(X)):\n",
    "    if (len(X[i]) >= cutoff):\n",
    "        new_x.append(X[i])\n",
    "        new_y.append(Y[i])\n",
    "X = new_x\n",
    "Y = new_y\n",
    "\n",
    "# On garde 100 mots par chanson\n",
    "trimmed = []\n",
    "for song in X:\n",
    "    song = song[:100]\n",
    "    trimmed.append(song)\n",
    "X = trimmed\n",
    "\n",
    "# Conversion en numpy array\n",
    "X = np.array(X)\n",
    "Y = np.array(Y)\n",
    "\n",
    "# On vérifie les shapes\n",
    "print(X.shape)\n",
    "print(Y.shape)"
   ]
  },
  {
   "cell_type": "code",
   "execution_count": 223,
   "metadata": {},
   "outputs": [
    {
     "name": "stdout",
     "output_type": "stream",
     "text": [
      "(488, 100)\n",
      "(488, 5)\n",
      "(55, 100)\n",
      "(55, 5)\n"
     ]
    }
   ],
   "source": [
    "X_train, X_test, y_train, y_test = train_test_split(X, Y, test_size=0.10, random_state=42)\n",
    "\n",
    "print(X_train.shape)\n",
    "print(y_train.shape)\n",
    "print(X_test.shape)\n",
    "print(y_test.shape)"
   ]
  },
  {
   "cell_type": "markdown",
   "metadata": {},
   "source": [
    "# Modèle"
   ]
  },
  {
   "cell_type": "code",
   "execution_count": 224,
   "metadata": {},
   "outputs": [
    {
     "name": "stdout",
     "output_type": "stream",
     "text": [
      "Model: \"sequential_13\"\n",
      "_________________________________________________________________\n",
      " Layer (type)                Output Shape              Param #   \n",
      "=================================================================\n",
      " dense_45 (Dense)            (None, 128)               12928     \n",
      "                                                                 \n",
      " activation_37 (Activation)  (None, 128)               0         \n",
      "                                                                 \n",
      " dense_46 (Dense)            (None, 1500)              193500    \n",
      "                                                                 \n",
      " activation_38 (Activation)  (None, 1500)              0         \n",
      "                                                                 \n",
      " dense_47 (Dense)            (None, 64)                96064     \n",
      "                                                                 \n",
      " activation_39 (Activation)  (None, 64)                0         \n",
      "                                                                 \n",
      " dense_48 (Dense)            (None, 5)                 325       \n",
      "                                                                 \n",
      "=================================================================\n",
      "Total params: 302,817\n",
      "Trainable params: 302,817\n",
      "Non-trainable params: 0\n",
      "_________________________________________________________________\n"
     ]
    }
   ],
   "source": [
    "old_model = Sequential([\n",
    "    Dense(128, input_shape=(100,)),\n",
    "    Activation('softmax'),\n",
    "    Dense(1500),\n",
    "    Activation('relu'),\n",
    "    Dense(64),\n",
    "    Activation('softmax'),\n",
    "    Dense(nb_artists)\n",
    "])\n",
    "\n",
    "old_model.compile(optimizer='rmsprop',\n",
    "              loss='mse',\n",
    "              metrics=['accuracy'])\n",
    "\n",
    "old_model.summary()"
   ]
  },
  {
   "cell_type": "code",
   "execution_count": 230,
   "metadata": {},
   "outputs": [],
   "source": [
    "epochs = 1000\n",
    "batch_size = 24\n",
    "old_history = old_model.fit(X_train,\n",
    "                    y_train,\n",
    "                    epochs=epochs,\n",
    "                    batch_size=batch_size,\n",
    "                    validation_split=0.1,\n",
    "                    verbose=0)"
   ]
  },
  {
   "cell_type": "code",
   "execution_count": 231,
   "metadata": {},
   "outputs": [
    {
     "name": "stdout",
     "output_type": "stream",
     "text": [
      "Training Accuracy: 0.5533\n",
      "Testing Accuracy:  0.4364\n"
     ]
    }
   ],
   "source": [
    "loss, accuracy = old_model.evaluate(X_train, y_train, verbose=False)\n",
    "print(\"Training Accuracy: {:.4f}\".format(accuracy))\n",
    "loss, accuracy = old_model.evaluate(X_test, y_test, verbose=False)\n",
    "print(\"Testing Accuracy:  {:.4f}\".format(accuracy))"
   ]
  },
  {
   "cell_type": "code",
   "execution_count": null,
   "metadata": {},
   "outputs": [],
   "source": []
  },
  {
   "cell_type": "code",
   "execution_count": null,
   "metadata": {},
   "outputs": [],
   "source": []
  },
  {
   "cell_type": "code",
   "execution_count": null,
   "metadata": {},
   "outputs": [],
   "source": []
  }
 ],
 "metadata": {
  "kernelspec": {
   "display_name": "Python 3",
   "language": "python",
   "name": "python3"
  },
  "language_info": {
   "codemirror_mode": {
    "name": "ipython",
    "version": 3
   },
   "file_extension": ".py",
   "mimetype": "text/x-python",
   "name": "python",
   "nbconvert_exporter": "python",
   "pygments_lexer": "ipython3",
   "version": "3.8.3"
  }
 },
 "nbformat": 4,
 "nbformat_minor": 4
}
